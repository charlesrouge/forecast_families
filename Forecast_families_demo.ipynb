{
 "cells": [
  {
   "cell_type": "markdown",
   "metadata": {},
   "source": [
    "# Forecast families: how to generate and visualize them.\n",
    "Use this notebook to generate and visualize forecast families, as introduced in the following paper submitted to Journal of Water Resources Planning and Management:\n",
    "C. Rougé, A. Peñuela, F. Pianosi. Forecast families: systematic evaluation of benefits from improving the skill of an existing forecast.\n",
    "\n",
    "Note the code is demonstrated directly on the bias corrected rainfall forecast (hindcast) for the 1 November 2011, and contained in file `data/example/ECMWF_bias_corr_20111101.csv`.\n",
    "\n",
    "More forecast data, and the methodology to bias correct these forecasts, is available with the iRONS toolbox at the address `https://github.com/iRONStoolbox/iRONStoolbox` (see also Peñuela et al., 2021 at doi:10.1016/j.envsoft.2021.105188). \n",
    "\n",
    "This is also where we start, by importing the climate data corresponding to the forecast.\n",
    "\n",
    "First, all imports."
   ]
  },
  {
   "cell_type": "code",
   "execution_count": 1,
   "metadata": {
    "scrolled": true
   },
   "outputs": [],
   "source": [
    "import pandas as pd\n",
    "import numpy as np\n",
    "import os"
   ]
  },
  {
   "cell_type": "markdown",
   "metadata": {},
   "source": [
    "## Part 1: produce a forecast family and visualise it"
   ]
  },
  {
   "cell_type": "markdown",
   "metadata": {},
   "source": [
    "### Import weather data\n",
    "We get that data for the same site (in SW England) as for the paper. We get it from the Github site for iRONS."
   ]
  },
  {
   "cell_type": "code",
   "execution_count": 2,
   "metadata": {},
   "outputs": [
    {
     "name": "stdout",
     "output_type": "stream",
     "text": [
      "                 PET       Rain      Temp\n",
      "Date                                     \n",
      "01/01/1980  0.166398   0.000000 -0.809513\n",
      "02/01/1980  0.365613   1.859602 -0.680378\n",
      "03/01/1980  0.000000  11.534853  2.177372\n",
      "04/01/1980  0.414094   5.383545  4.559046\n",
      "05/01/1980  0.215212   1.287237  2.840470\n"
     ]
    }
   ],
   "source": [
    "# Get the data\n",
    "url = 'https://github.com/iRONStoolbox/iRONStoolbox/blob/master/iRONS/Notebooks/B%20-%20Implementation/Inputs/hist_clim_data.csv?raw=true'\n",
    "data = pd.read_csv(url, index_col=0)\n",
    "\n",
    "# Check it (see printed result below)\n",
    "print(data.head(5))\n",
    "\n",
    "# Save it\n",
    "data.to_csv('data/hist_clim_data.csv')"
   ]
  },
  {
   "cell_type": "markdown",
   "metadata": {},
   "source": [
    "## Part 2: generate forecast families for ECMWF data"
   ]
  },
  {
   "cell_type": "markdown",
   "metadata": {},
   "source": [
    "### Define key parameters"
   ]
  },
  {
   "cell_type": "code",
   "execution_count": null,
   "metadata": {},
   "outputs": [],
   "source": [
    "# Define data range: for instance, winter 2011-2012\n",
    "begin_date = '2011/11/01'\n",
    "end_date = '2012/03/01'\n",
    "\n",
    "# List of skills to consider\n",
    "skill_values = np.linspace(0, 1, 6)\n",
    "\n",
    "# Folder where to store the data (create it if needed)\n",
    "forecast_folder = 'data/ECMWF forecasts csv/'\n",
    "if os.path.exists(forecast_folder) is False:\n",
    "    os.mkdir(forecast_folder)"
   ]
  },
  {
   "cell_type": "markdown",
   "metadata": {},
   "source": [
    "### Import ECMWF forecast data\n",
    "These are also taken from the iRONS toolbox, which also contains instructions on how to get data directly from the ECMWF website."
   ]
  },
  {
   "cell_type": "code",
   "execution_count": 4,
   "metadata": {},
   "outputs": [],
   "source": [
    "# List dates for forecasts to pull, here with a monthly frequency\n",
    "date_list = pd.date_range(start=begin_date, end=end_date, freq='MS')\n",
    " \n",
    "# Get and save forecast for all dates in range\n",
    "for t in date_list:\n",
    "    \n",
    "    # Get the data\n",
    "    url = 'https://github.com/iRONStoolbox/iRONStoolbox/blob/master/iRONS/Notebooks/B%20-%20Implementation/Inputs/ECMWF%20forecasts%20csv/' + str(10000*t.year + 100*t.month + t.day) + '_1d_7m_ECMWF_Rain.csv?raw=true'\n",
    "    data = pd.read_csv(url, index_col=0)\n",
    "    \n",
    "    # Save it\n",
    "    data.to_csv(forecast_folder + str(10000*t.year + 100*t.month + t.day) + '_1d_7m_ECMWF_Rain.csv')"
   ]
  },
  {
   "cell_type": "code",
   "execution_count": null,
   "metadata": {},
   "outputs": [],
   "source": []
  }
 ],
 "metadata": {
  "kernelspec": {
   "display_name": "Python 3 (ipykernel)",
   "language": "python",
   "name": "python3"
  },
  "language_info": {
   "codemirror_mode": {
    "name": "ipython",
    "version": 3
   },
   "file_extension": ".py",
   "mimetype": "text/x-python",
   "name": "python",
   "nbconvert_exporter": "python",
   "pygments_lexer": "ipython3",
   "version": "3.7.3"
  }
 },
 "nbformat": 4,
 "nbformat_minor": 2
}
